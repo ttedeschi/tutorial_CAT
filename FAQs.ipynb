{
 "cells": [
  {
   "cell_type": "markdown",
   "id": "88ca4491-c7da-4573-b4d5-d4f7c9c85dcc",
   "metadata": {},
   "source": [
    "# FAQs"
   ]
  },
  {
   "cell_type": "code",
   "execution_count": null,
   "id": "78c4f487-a3ea-4925-b68a-8918eff6bbe6",
   "metadata": {},
   "outputs": [],
   "source": [
    "How to achieve Private Work"
   ]
  },
  {
   "cell_type": "code",
   "execution_count": null,
   "id": "e525cde7-6d0f-4a50-b054-c639cdcd215c",
   "metadata": {},
   "outputs": [],
   "source": []
  }
 ],
 "metadata": {
  "kernelspec": {
   "display_name": "Python 3 (ipykernel)",
   "language": "python",
   "name": "python3"
  },
  "language_info": {
   "codemirror_mode": {
    "name": "ipython",
    "version": 3
   },
   "file_extension": ".py",
   "mimetype": "text/x-python",
   "name": "python",
   "nbconvert_exporter": "python",
   "pygments_lexer": "ipython3",
   "version": "3.10.12"
  }
 },
 "nbformat": 4,
 "nbformat_minor": 5
}
